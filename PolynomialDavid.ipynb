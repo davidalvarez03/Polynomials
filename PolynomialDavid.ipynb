{
  "nbformat": 4,
  "nbformat_minor": 0,
  "metadata": {
    "colab": {
      "provenance": [],
      "authorship_tag": "ABX9TyMwoiKdsSf/dBqK4Z55B9GC",
      "include_colab_link": true
    },
    "kernelspec": {
      "name": "python3",
      "display_name": "Python 3"
    },
    "language_info": {
      "name": "python"
    },
    "widgets": {
      "application/vnd.jupyter.widget-state+json": {
        "97579f8532dc421da4614b0e2a207deb": {
          "model_module": "@jupyter-widgets/controls",
          "model_name": "HBoxModel",
          "model_module_version": "1.5.0",
          "state": {
            "_dom_classes": [],
            "_model_module": "@jupyter-widgets/controls",
            "_model_module_version": "1.5.0",
            "_model_name": "HBoxModel",
            "_view_count": null,
            "_view_module": "@jupyter-widgets/controls",
            "_view_module_version": "1.5.0",
            "_view_name": "HBoxView",
            "box_style": "",
            "children": [
              "IPY_MODEL_6712dea301bc44409f76d50ec0eb62a9",
              "IPY_MODEL_ffed804e11e941daa8d0c98244d3505f",
              "IPY_MODEL_d0a62ea3960948a0bf63297abdf8a1d1"
            ],
            "layout": "IPY_MODEL_e2f259109c914e6d8ca857eb54f4de11"
          }
        },
        "6712dea301bc44409f76d50ec0eb62a9": {
          "model_module": "@jupyter-widgets/controls",
          "model_name": "HTMLModel",
          "model_module_version": "1.5.0",
          "state": {
            "_dom_classes": [],
            "_model_module": "@jupyter-widgets/controls",
            "_model_module_version": "1.5.0",
            "_model_name": "HTMLModel",
            "_view_count": null,
            "_view_module": "@jupyter-widgets/controls",
            "_view_module_version": "1.5.0",
            "_view_name": "HTMLView",
            "description": "",
            "description_tooltip": null,
            "layout": "IPY_MODEL_c10ecfec42714f0c981a3fe588d7eb54",
            "placeholder": "​",
            "style": "IPY_MODEL_4c993ced5f91405089c76f76b18d97b5",
            "value": " 23%"
          }
        },
        "ffed804e11e941daa8d0c98244d3505f": {
          "model_module": "@jupyter-widgets/controls",
          "model_name": "FloatProgressModel",
          "model_module_version": "1.5.0",
          "state": {
            "_dom_classes": [],
            "_model_module": "@jupyter-widgets/controls",
            "_model_module_version": "1.5.0",
            "_model_name": "FloatProgressModel",
            "_view_count": null,
            "_view_module": "@jupyter-widgets/controls",
            "_view_module_version": "1.5.0",
            "_view_name": "ProgressView",
            "bar_style": "",
            "description": "",
            "description_tooltip": null,
            "layout": "IPY_MODEL_c360a9143e674befb722ce968a3d53cd",
            "max": 949,
            "min": 0,
            "orientation": "horizontal",
            "style": "IPY_MODEL_0d71f11d3d514b05954644a30eeba436",
            "value": 217
          }
        },
        "d0a62ea3960948a0bf63297abdf8a1d1": {
          "model_module": "@jupyter-widgets/controls",
          "model_name": "HTMLModel",
          "model_module_version": "1.5.0",
          "state": {
            "_dom_classes": [],
            "_model_module": "@jupyter-widgets/controls",
            "_model_module_version": "1.5.0",
            "_model_name": "HTMLModel",
            "_view_count": null,
            "_view_module": "@jupyter-widgets/controls",
            "_view_module_version": "1.5.0",
            "_view_name": "HTMLView",
            "description": "",
            "description_tooltip": null,
            "layout": "IPY_MODEL_93df16ee9824429e9d74db6e339236af",
            "placeholder": "​",
            "style": "IPY_MODEL_27b64d50358343c4a86750b52be8fdb6",
            "value": " 216/949 [02:01&lt;10:37,  1.15it/s]"
          }
        },
        "e2f259109c914e6d8ca857eb54f4de11": {
          "model_module": "@jupyter-widgets/base",
          "model_name": "LayoutModel",
          "model_module_version": "1.2.0",
          "state": {
            "_model_module": "@jupyter-widgets/base",
            "_model_module_version": "1.2.0",
            "_model_name": "LayoutModel",
            "_view_count": null,
            "_view_module": "@jupyter-widgets/base",
            "_view_module_version": "1.2.0",
            "_view_name": "LayoutView",
            "align_content": null,
            "align_items": null,
            "align_self": null,
            "border": null,
            "bottom": null,
            "display": null,
            "flex": null,
            "flex_flow": null,
            "grid_area": null,
            "grid_auto_columns": null,
            "grid_auto_flow": null,
            "grid_auto_rows": null,
            "grid_column": null,
            "grid_gap": null,
            "grid_row": null,
            "grid_template_areas": null,
            "grid_template_columns": null,
            "grid_template_rows": null,
            "height": null,
            "justify_content": null,
            "justify_items": null,
            "left": null,
            "margin": null,
            "max_height": null,
            "max_width": null,
            "min_height": null,
            "min_width": null,
            "object_fit": null,
            "object_position": null,
            "order": null,
            "overflow": null,
            "overflow_x": null,
            "overflow_y": null,
            "padding": null,
            "right": null,
            "top": null,
            "visibility": null,
            "width": null
          }
        },
        "c10ecfec42714f0c981a3fe588d7eb54": {
          "model_module": "@jupyter-widgets/base",
          "model_name": "LayoutModel",
          "model_module_version": "1.2.0",
          "state": {
            "_model_module": "@jupyter-widgets/base",
            "_model_module_version": "1.2.0",
            "_model_name": "LayoutModel",
            "_view_count": null,
            "_view_module": "@jupyter-widgets/base",
            "_view_module_version": "1.2.0",
            "_view_name": "LayoutView",
            "align_content": null,
            "align_items": null,
            "align_self": null,
            "border": null,
            "bottom": null,
            "display": null,
            "flex": null,
            "flex_flow": null,
            "grid_area": null,
            "grid_auto_columns": null,
            "grid_auto_flow": null,
            "grid_auto_rows": null,
            "grid_column": null,
            "grid_gap": null,
            "grid_row": null,
            "grid_template_areas": null,
            "grid_template_columns": null,
            "grid_template_rows": null,
            "height": null,
            "justify_content": null,
            "justify_items": null,
            "left": null,
            "margin": null,
            "max_height": null,
            "max_width": null,
            "min_height": null,
            "min_width": null,
            "object_fit": null,
            "object_position": null,
            "order": null,
            "overflow": null,
            "overflow_x": null,
            "overflow_y": null,
            "padding": null,
            "right": null,
            "top": null,
            "visibility": null,
            "width": null
          }
        },
        "4c993ced5f91405089c76f76b18d97b5": {
          "model_module": "@jupyter-widgets/controls",
          "model_name": "DescriptionStyleModel",
          "model_module_version": "1.5.0",
          "state": {
            "_model_module": "@jupyter-widgets/controls",
            "_model_module_version": "1.5.0",
            "_model_name": "DescriptionStyleModel",
            "_view_count": null,
            "_view_module": "@jupyter-widgets/base",
            "_view_module_version": "1.2.0",
            "_view_name": "StyleView",
            "description_width": ""
          }
        },
        "c360a9143e674befb722ce968a3d53cd": {
          "model_module": "@jupyter-widgets/base",
          "model_name": "LayoutModel",
          "model_module_version": "1.2.0",
          "state": {
            "_model_module": "@jupyter-widgets/base",
            "_model_module_version": "1.2.0",
            "_model_name": "LayoutModel",
            "_view_count": null,
            "_view_module": "@jupyter-widgets/base",
            "_view_module_version": "1.2.0",
            "_view_name": "LayoutView",
            "align_content": null,
            "align_items": null,
            "align_self": null,
            "border": null,
            "bottom": null,
            "display": null,
            "flex": null,
            "flex_flow": null,
            "grid_area": null,
            "grid_auto_columns": null,
            "grid_auto_flow": null,
            "grid_auto_rows": null,
            "grid_column": null,
            "grid_gap": null,
            "grid_row": null,
            "grid_template_areas": null,
            "grid_template_columns": null,
            "grid_template_rows": null,
            "height": null,
            "justify_content": null,
            "justify_items": null,
            "left": null,
            "margin": null,
            "max_height": null,
            "max_width": null,
            "min_height": null,
            "min_width": null,
            "object_fit": null,
            "object_position": null,
            "order": null,
            "overflow": null,
            "overflow_x": null,
            "overflow_y": null,
            "padding": null,
            "right": null,
            "top": null,
            "visibility": null,
            "width": null
          }
        },
        "0d71f11d3d514b05954644a30eeba436": {
          "model_module": "@jupyter-widgets/controls",
          "model_name": "ProgressStyleModel",
          "model_module_version": "1.5.0",
          "state": {
            "_model_module": "@jupyter-widgets/controls",
            "_model_module_version": "1.5.0",
            "_model_name": "ProgressStyleModel",
            "_view_count": null,
            "_view_module": "@jupyter-widgets/base",
            "_view_module_version": "1.2.0",
            "_view_name": "StyleView",
            "bar_color": null,
            "description_width": ""
          }
        },
        "93df16ee9824429e9d74db6e339236af": {
          "model_module": "@jupyter-widgets/base",
          "model_name": "LayoutModel",
          "model_module_version": "1.2.0",
          "state": {
            "_model_module": "@jupyter-widgets/base",
            "_model_module_version": "1.2.0",
            "_model_name": "LayoutModel",
            "_view_count": null,
            "_view_module": "@jupyter-widgets/base",
            "_view_module_version": "1.2.0",
            "_view_name": "LayoutView",
            "align_content": null,
            "align_items": null,
            "align_self": null,
            "border": null,
            "bottom": null,
            "display": null,
            "flex": null,
            "flex_flow": null,
            "grid_area": null,
            "grid_auto_columns": null,
            "grid_auto_flow": null,
            "grid_auto_rows": null,
            "grid_column": null,
            "grid_gap": null,
            "grid_row": null,
            "grid_template_areas": null,
            "grid_template_columns": null,
            "grid_template_rows": null,
            "height": null,
            "justify_content": null,
            "justify_items": null,
            "left": null,
            "margin": null,
            "max_height": null,
            "max_width": null,
            "min_height": null,
            "min_width": null,
            "object_fit": null,
            "object_position": null,
            "order": null,
            "overflow": null,
            "overflow_x": null,
            "overflow_y": null,
            "padding": null,
            "right": null,
            "top": null,
            "visibility": null,
            "width": null
          }
        },
        "27b64d50358343c4a86750b52be8fdb6": {
          "model_module": "@jupyter-widgets/controls",
          "model_name": "DescriptionStyleModel",
          "model_module_version": "1.5.0",
          "state": {
            "_model_module": "@jupyter-widgets/controls",
            "_model_module_version": "1.5.0",
            "_model_name": "DescriptionStyleModel",
            "_view_count": null,
            "_view_module": "@jupyter-widgets/base",
            "_view_module_version": "1.2.0",
            "_view_name": "StyleView",
            "description_width": ""
          }
        }
      }
    }
  },
  "cells": [
    {
      "cell_type": "markdown",
      "metadata": {
        "id": "view-in-github",
        "colab_type": "text"
      },
      "source": [
        "<a href=\"https://colab.research.google.com/github/davidalvarez03/Polynomials/blob/main/PolynomialDavid.ipynb\" target=\"_parent\"><img src=\"https://colab.research.google.com/assets/colab-badge.svg\" alt=\"Open In Colab\"/></a>"
      ]
    },
    {
      "cell_type": "code",
      "execution_count": 1,
      "metadata": {
        "id": "5Kh-y8EnMLoJ"
      },
      "outputs": [],
      "source": [
        "# some python imports\n",
        "import matplotlib.pyplot as plt\n",
        "import numpy as np\n",
        "import matplotlib as mpl"
      ]
    },
    {
      "cell_type": "code",
      "source": [
        "import tensorflow as tf\n",
        "import matplotlib.pyplot as plt\n",
        "import numpy as np\n",
        "import matplotlib as mpl\n",
        "from mpl_toolkits.axes_grid1 import make_axes_locatable\n",
        "from scipy.optimize import minimize\n",
        "import tensorflow_probability as tfp\n",
        "from scipy.stats import norm\n",
        "tfd = tfp.distributions"
      ],
      "metadata": {
        "id": "O9SkvTT7M32r"
      },
      "execution_count": 2,
      "outputs": []
    },
    {
      "cell_type": "code",
      "source": [
        "# The true parameters\n",
        "TRUE_W = 5.0\n",
        "TRUE_B = 1.0\n",
        "NUM_DATA = 201\n",
        "\n",
        "# A vector of random x values\n",
        "x = tf.linspace(-2,2, NUM_DATA)\n",
        "x = tf.cast(x, tf.float32)\n",
        "\n",
        "def f(x):\n",
        "  return x * TRUE_W + TRUE_B\n",
        "\n",
        "mean=0\n",
        "std=3\n",
        "# Generate some noise\n",
        "noise = tf.random.normal(shape=[NUM_DATA], mean=mean, stddev=std)\n",
        "\n",
        "# Calculate y\n",
        "y = f(x) + noise\n",
        "y=tf.cast(y, tf.float32)\n",
        "\n",
        "# Plot all the data\n",
        "plt.plot(x, y, '.')\n",
        "plt.show()"
      ],
      "metadata": {
        "id": "gWAHwjNEM3xd"
      },
      "execution_count": null,
      "outputs": []
    },
    {
      "cell_type": "code",
      "source": [
        "class MyModel(tf.Module):\n",
        "  def __init__(self,w_initial,b_initial):\n",
        "    super().__init__()\n",
        "    # Initialize the weights to `5.0` and the bias to `0.0`\n",
        "    # In practice, these should be randomly initialized\n",
        "    self.w = tf.Variable(w_initial, name='w')\n",
        "    self.b = tf.Variable(b_initial)\n",
        "\n",
        "  def __call__(self, x):\n",
        "    return self.w * x + self.b\n",
        "\n",
        "model = MyModel(5.0,0.0)\n",
        "\n",
        "# List the variables tf.modules's built-in variable aggregation.\n",
        "print(\"Variables:\", model.variables)\n",
        "\n",
        "# Verify the model works\n",
        "assert model(3.0).numpy() == 15.0"
      ],
      "metadata": {
        "colab": {
          "base_uri": "https://localhost:8080/"
        },
        "id": "-fm0A-DhM3sk",
        "outputId": "a1962fba-2676-4fbe-dfa7-7f34e3718d1a"
      },
      "execution_count": 4,
      "outputs": [
        {
          "output_type": "stream",
          "name": "stdout",
          "text": [
            "Variables: (<tf.Variable 'Variable:0' shape=() dtype=float32, numpy=0.0>, <tf.Variable 'w:0' shape=() dtype=float32, numpy=5.0>)\n"
          ]
        }
      ]
    },
    {
      "cell_type": "code",
      "source": [
        "# This computes a single loss value for an entire batch\n",
        "def loss(target_y, predicted_y):\n",
        "  return tf.reduce_mean(tf.square(target_y - predicted_y))\n",
        "\n",
        "#defining the prior\n",
        "#DEFINING THE PRIOR, LIKELIHOOD AND POSTERIOR\n",
        "\n",
        "def logprior(model):\n",
        "    lin_coef, ind_coef = model.w.numpy(),model.b.numpy()\n",
        "    p_lin_coef=tfd.Uniform(-5,5)\n",
        "    p_ind_coef=tfd.Uniform(-5,5)\n",
        "    return p_ind_coef.log_prob(lin_coef)+p_ind_coef.log_prob(ind_coef)\n",
        "\n",
        "def loglikelihood(model,x,target_y):\n",
        "    lin_coef, ind_coef = model.w.numpy(),model.b.numpy()\n",
        "    predicted_y=model(x)\n",
        "    a = 0\n",
        "    sigma=1\n",
        "    for i in range(len(target_y)):\n",
        "      prob_y=tfd.Normal(target_y[i],sigma)\n",
        "      a=a+prob_y.log_prob(predicted_y[i])\n",
        "    return a\n",
        "\n",
        "def logposterior(model,x,target_y):\n",
        "  return logprior(model)+loglikelihood(model,x,target_y)\n",
        "\n",
        "def loss(model,x,target_y):\n",
        "  return -logposterior(model,x,target_y)"
      ],
      "metadata": {
        "id": "hGTDUShsM3p8"
      },
      "execution_count": 5,
      "outputs": []
    },
    {
      "cell_type": "code",
      "source": [
        "plt.plot(x, y, '.', label=\"Data\")\n",
        "plt.plot(x, f(x), label=\"Ground truth\")\n",
        "plt.plot(x, model(x), label=\"Predictions\")\n",
        "plt.legend()\n",
        "plt.show()\n",
        "\n",
        "print(\"Current loss: %1.6f\" % loss(model,x,y).numpy())"
      ],
      "metadata": {
        "colab": {
          "base_uri": "https://localhost:8080/",
          "height": 447
        },
        "id": "gJQ1ZqJlM3nZ",
        "outputId": "0bdeab74-235b-4dcc-cd9b-b272f72229dd"
      },
      "execution_count": 6,
      "outputs": [
        {
          "output_type": "display_data",
          "data": {
            "text/plain": [
              "<Figure size 640x480 with 1 Axes>"
            ],
            "image/png": "[encoded data removed]"
          },
          "metadata": {}
        },
        {
          "output_type": "stream",
          "name": "stdout",
          "text": [
            "Current loss: 1222.306885\n"
          ]
        }
      ]
    },
    {
      "cell_type": "code",
      "source": [
        "# Given a callable model, inputs, outputs, and a learning rate...\n",
        "def train(model, x, y, learning_rate):\n",
        "\n",
        "  with tf.GradientTape() as t:\n",
        "    # Trainable variables are automatically tracked by GradientTape\n",
        "    current_loss = loss(model,x,y)\n",
        "  print([model.w, model.b])\n",
        "  # Use GradientTape to calculate the gradients with respect to W and b\n",
        "  dw, db = t.gradient(current_loss, [model.w, model.b])\n",
        "  print(dw,db)\n",
        "  # Subtract the gradient scaled by the learning rate\n",
        "  model.w.assign_sub(learning_rate * dw)\n",
        "  model.b.assign_sub(learning_rate * db)"
      ],
      "metadata": {
        "id": "qzpjfqwaM3h0"
      },
      "execution_count": 7,
      "outputs": []
    },
    {
      "cell_type": "code",
      "source": [
        "# Collect the history of W-values and b-values to plot later\n",
        "w = []\n",
        "b = []\n",
        "epochs = range(10)\n",
        "\n",
        "# Define a training loop\n",
        "def report(model, loss):\n",
        "  return f\"W = {model.w.numpy():1.2f}, b = {model.b.numpy():1.2f}, loss={loss:2.5f}\"\n",
        "\n",
        "def training_loop(model, x, y):\n",
        "  vect_loss=[]\n",
        "  for epoch in epochs:\n",
        "    # Update the model with the single giant batch\n",
        "    train(model, x, y, learning_rate=0.002)\n",
        "\n",
        "    # Track this before I update\n",
        "    w.append(model.w.numpy())\n",
        "    b.append(model.b.numpy())\n",
        "    current_loss =loss(model,x,y)\n",
        "    vect_loss.append(current_loss)\n",
        "    print(f\"Epoch {epoch:2d}:\")\n",
        "    print(\"    \", report(model, current_loss))\n",
        "  return vect_loss"
      ],
      "metadata": {
        "id": "FD--b9G1td3X"
      },
      "execution_count": 8,
      "outputs": []
    },
    {
      "cell_type": "code",
      "source": [
        "current_loss = loss(model,x,y)\n",
        "\n",
        "print(f\"Starting:\")\n",
        "print(\"    \", report(model, current_loss))\n",
        "\n",
        "vect_loss=training_loop(model, x, y)\n",
        "\n",
        "plt.plot(range(len(vect_loss)),vect_loss)\n",
        "plt.xlabel('Iterations')\n",
        "plt.ylabel('Loss')"
      ],
      "metadata": {
        "colab": {
          "base_uri": "https://localhost:8080/",
          "height": 1000
        },
        "id": "QH00wsT9td0T",
        "outputId": "52afd107-69c0-41a9-eb36-02ca3322855c"
      },
      "execution_count": 9,
      "outputs": [
        {
          "output_type": "stream",
          "name": "stdout",
          "text": [
            "Starting:\n",
            "     W = 5.00, b = 0.00, loss=1222.30688\n",
            "[<tf.Variable 'w:0' shape=() dtype=float32, numpy=5.0>, <tf.Variable 'Variable:0' shape=() dtype=float32, numpy=0.0>]\n",
            "tf.Tensor(534.0683, shape=(), dtype=float32) tf.Tensor(-409.10654, shape=(), dtype=float32)\n",
            "Epoch  0:\n",
            "     W = 3.93, b = 0.82, loss=538.80621\n",
            "[<tf.Variable 'w:0' shape=() dtype=float32, numpy=3.9318633>, <tf.Variable 'Variable:0' shape=() dtype=float32, numpy=0.8182131>]\n",
            "tf.Tensor(244.94504, shape=(), dtype=float32) tf.Tensor(-244.6457, shape=(), dtype=float32)\n",
            "Epoch  1:\n",
            "     W = 3.44, b = 1.31, loss=355.64807\n",
            "[<tf.Variable 'w:0' shape=() dtype=float32, numpy=3.4419732>, <tf.Variable 'Variable:0' shape=() dtype=float32, numpy=1.3075045>]\n",
            "tf.Tensor(112.34158, shape=(), dtype=float32) tf.Tensor(-146.29811, shape=(), dtype=float32)\n",
            "Epoch  2:\n",
            "     W = 3.22, b = 1.60, loss=303.03668\n",
            "[<tf.Variable 'w:0' shape=() dtype=float32, numpy=3.21729>, <tf.Variable 'Variable:0' shape=() dtype=float32, numpy=1.6001008>]\n",
            "tf.Tensor(51.524315, shape=(), dtype=float32) tf.Tensor(-87.48627, shape=(), dtype=float32)\n",
            "Epoch  3:\n",
            "     W = 3.11, b = 1.78, loss=286.93356\n",
            "[<tf.Variable 'w:0' shape=() dtype=float32, numpy=3.1142414>, <tf.Variable 'Variable:0' shape=() dtype=float32, numpy=1.7750733>]\n",
            "tf.Tensor(23.63112, shape=(), dtype=float32) tf.Tensor(-52.31679, shape=(), dtype=float32)\n",
            "Epoch  4:\n",
            "     W = 3.07, b = 1.88, loss=281.74527\n",
            "[<tf.Variable 'w:0' shape=() dtype=float32, numpy=3.0669792>, <tf.Variable 'Variable:0' shape=() dtype=float32, numpy=1.8797069>]\n",
            "tf.Tensor(10.838191, shape=(), dtype=float32) tf.Tensor(-31.285442, shape=(), dtype=float32)\n",
            "Epoch  5:\n",
            "     W = 3.05, b = 1.94, loss=280.00974\n",
            "[<tf.Variable 'w:0' shape=() dtype=float32, numpy=3.0453029>, <tf.Variable 'Variable:0' shape=() dtype=float32, numpy=1.9422778>]\n",
            "tf.Tensor(4.9708533, shape=(), dtype=float32) tf.Tensor(-18.70868, shape=(), dtype=float32)\n",
            "Epoch  6:\n",
            "     W = 3.04, b = 1.98, loss=279.41440\n",
            "[<tf.Variable 'w:0' shape=() dtype=float32, numpy=3.035361>, <tf.Variable 'Variable:0' shape=() dtype=float32, numpy=1.9796952>]\n",
            "tf.Tensor(2.2798004, shape=(), dtype=float32) tf.Tensor(-11.187778, shape=(), dtype=float32)\n",
            "Epoch  7:\n",
            "     W = 3.03, b = 2.00, loss=279.20676\n",
            "[<tf.Variable 'w:0' shape=() dtype=float32, numpy=3.0308015>, <tf.Variable 'Variable:0' shape=() dtype=float32, numpy=2.0020707>]\n",
            "tf.Tensor(1.0456257, shape=(), dtype=float32) tf.Tensor(-6.6903224, shape=(), dtype=float32)\n",
            "Epoch  8:\n",
            "     W = 3.03, b = 2.02, loss=279.13364\n",
            "[<tf.Variable 'w:0' shape=() dtype=float32, numpy=3.0287104>, <tf.Variable 'Variable:0' shape=() dtype=float32, numpy=2.0154512>]\n",
            "tf.Tensor(0.47959042, shape=(), dtype=float32) tf.Tensor(-4.0008326, shape=(), dtype=float32)\n",
            "Epoch  9:\n",
            "     W = 3.03, b = 2.02, loss=279.10776\n"
          ]
        },
        {
          "output_type": "execute_result",
          "data": {
            "text/plain": [
              "Text(0, 0.5, 'Loss')"
            ]
          },
          "metadata": {},
          "execution_count": 9
        },
        {
          "output_type": "display_data",
          "data": {
            "text/plain": [
              "<Figure size 640x480 with 1 Axes>"
            ],
            "image/png": "[encoded data removed]"
          },
          "metadata": {}
        }
      ]
    },
    {
      "cell_type": "code",
      "source": [
        "plt.plot(x, y, '.', label=\"Data\")\n",
        "plt.plot(x, f(x), label=\"Truth\")\n",
        "plt.plot(x, model(x), label=\"Predictions\")\n",
        "plt.legend()\n",
        "plt.show()\n",
        "\n",
        "print(\"Current loss: %1.6f\" % loss(model,x, y).numpy())"
      ],
      "metadata": {
        "colab": {
          "base_uri": "https://localhost:8080/",
          "height": 447
        },
        "id": "5qOmrbdytdw6",
        "outputId": "00a93c8c-3b22-415c-8565-110fce9c0459"
      },
      "execution_count": 10,
      "outputs": [
        {
          "output_type": "display_data",
          "data": {
            "text/plain": [
              "<Figure size 640x480 with 1 Axes>"
            ],
            "image/png": "[encoded data removed]"
          },
          "metadata": {}
        },
        {
          "output_type": "stream",
          "name": "stdout",
          "text": [
            "Current loss: 279.107758\n"
          ]
        }
      ]
    },
    {
      "cell_type": "code",
      "source": [],
      "metadata": {
        "id": "4q4eVBSpT7Ks"
      },
      "execution_count": 10,
      "outputs": []
    },
    {
      "cell_type": "code",
      "source": [],
      "metadata": {
        "id": "rvQDWJyQtdtx"
      },
      "execution_count": 10,
      "outputs": []
    },
    {
      "cell_type": "code",
      "source": [],
      "metadata": {
        "id": "9cZrA5K2tdrM"
      },
      "execution_count": 10,
      "outputs": []
    },
    {
      "cell_type": "code",
      "source": [],
      "metadata": {
        "id": "ou-1dLKItdnR"
      },
      "execution_count": 10,
      "outputs": []
    },
    {
      "cell_type": "code",
      "source": [
        "class LinearModel(tf.Module):\n",
        "  def __init__(self,w,b,**kwargs):\n",
        "    super().__init__(**kwargs)\n",
        "    self.w = tf.Variable(w,name='lin_param')\n",
        "    self.b = tf.Variable(b,name='ind_param')\n",
        "    #print('w',self.w)\n",
        "    #print('b',self.b)\n",
        "  def __call__(self, x): #x must be a tensor\n",
        "    # w and b can be (n,m) shaped tensors\n",
        "    s=np.array(self.w.shape)\n",
        "    l=len(s)\n",
        "    ax1=s[0]\n",
        "    if l==1 and ax1==1:\n",
        "       res= self.w * x + self.b\n",
        "    else:\n",
        "      result=np.zeros((ax1,len(x.numpy())))\n",
        "      for i in range(ax1):\n",
        "           update=self.w[i]*x+self.b[i]\n",
        "           update=update.numpy()\n",
        "           result[i]=update\n",
        "      res=tf.constant(result)\n",
        "           #print(np.shape(res[i]), np.shape(w_numpy[i]*x), np.shape(b_numpy[i]*np.ones(len(x))))\n",
        "    return tf.cast(res, tf.float32)\n",
        "\n",
        "\n",
        "#defining the prior\n",
        "#DEFINING THE PRIOR, LIKELIHOOD AND POSTERIOR\n",
        "\n",
        "def logprior(w,b):\n",
        "    lin_coef, ind_coef = w,b\n",
        "    p_lin_coef=tfd.Normal(4.5,3)\n",
        "    p_ind_coef=tfd.Normal(1.5,3)\n",
        "    return p_ind_coef.log_prob(lin_coef)+p_ind_coef.log_prob(ind_coef)\n",
        "\n",
        "def loglikelihood(w,b,x,target_y):  #the input argument Linearmodel is just (LinearModel([params]))\n",
        "    model=LinearModel(w,b)\n",
        "    predicted_y=model(x)\n",
        "    s=np.array(model.w.shape)\n",
        "    l=len(s)\n",
        "    ax1=s[0]\n",
        "    sigma=1\n",
        "    prob_y=tfd.Normal(target_y,sigma)\n",
        "    if ax1==1:\n",
        "      L=tf.math.reduce_sum(prob_y.log_prob(predicted_y))\n",
        "    else:\n",
        "      L=tf.math.reduce_sum(prob_y.log_prob(predicted_y),axis=1)\n",
        "    return L\n",
        "\n",
        "    '''for i in range(len(target_y)):\n",
        "      prob_y=tfd.Normal(target_y[i],sigma)\n",
        "      a=a+prob_y.log_prob(predicted_y[i])'''\n",
        "\n",
        "\n",
        "def logposterior(w,b,x,target_y): #the input argument Linearmodel is just (LinearModel([params]))\n",
        "  return logprior(w,b)+loglikelihood(w,b,x,target_y)\n",
        "\n",
        "def posterior(LinearModel,x,target_y): #the input argument Linearmodel is just (LinearModel([params])). We need this function for the KL divergence.\n",
        "  return tf.exp(logposterior(LinearModel,x,target_y))\n",
        "\n",
        "def loss(LinearModel,x,target_y):\n",
        "  return -logposterior(LinearModel,x,target_y)\n",
        "\n"
      ],
      "metadata": {
        "id": "YQMLLQDLtdjv"
      },
      "execution_count": 11,
      "outputs": []
    },
    {
      "cell_type": "code",
      "source": [
        "param1=tf.constant([5.09, 5.10, 5.85])\n",
        "param2=tf.constant([0.98, 1.05, 1.07])\n",
        "model=LinearModel(param1,param2)\n",
        "z=model(x)\n",
        "\n",
        "ll=loglikelihood(param1,param2,x,y)\n",
        "print('ll',ll)\n",
        "\n",
        "lll=logposterior(param1,param2,x,y)\n",
        "print(lll)"
      ],
      "metadata": {
        "colab": {
          "base_uri": "https://localhost:8080/"
        },
        "id": "ozhGRBGWdvNe",
        "outputId": "55a9d485-ffb4-42ab-9172-2113b0ff3a16"
      },
      "execution_count": 12,
      "outputs": [
        {
          "output_type": "stream",
          "name": "stdout",
          "text": [
            "ll tf.Tensor([ -962.45996  -953.7013  -1446.7614 ], shape=(3,), dtype=float32)\n",
            "tf.Tensor([ -967.2261   -958.46765 -1451.858  ], shape=(3,), dtype=float32)\n"
          ]
        }
      ]
    },
    {
      "cell_type": "code",
      "source": [
        "def SVI(x,target_y,optimizer,start, n_vi, init_scales=1e-3, num_steps=500, seed=2):\n",
        "        tf.random.set_seed(seed)\n",
        "        start = tf.squeeze(start)\n",
        "        scale = (\n",
        "            np.ones(len(start)).astype(np.float32) * init_scales\n",
        "            if np.size(init_scales) == 1\n",
        "            else init_scales\n",
        "        )\n",
        "        q_z = tfd.MultivariateNormalTriL( #this is the surrogate posterior, which we choose to be a multivariable gaussian\n",
        "            loc=tf.Variable(start), #initially, we set the mean to be the start tensor, which is the best MAP\n",
        "            scale_tril=tfp.util.TransformedVariable(\n",
        "                np.diag(scale),\n",
        "                tfp.bijectors.FillScaleTriL(diag_bijector=tfp.bijectors.Exp(), diag_shift=1e-6),\n",
        "                name=\"stddev\",\n",
        "            ),\n",
        "        )\n",
        "        #callable=lambda params: logposterior(params[:,0],params[:,1],x,target_y)\n",
        "        losses = tfp.vi.fit_surrogate_posterior(\n",
        "            target_log_prob_fn= lambda params: 1*logposterior(params[:,0],params[:,1],x,target_y),\n",
        "            surrogate_posterior=q_z,\n",
        "            sample_size=n_vi,\n",
        "            optimizer=optimizer,\n",
        "            num_steps=num_steps,\n",
        "        )\n",
        "\n",
        "\n",
        "        return q_z, losses\n"
      ],
      "metadata": {
        "id": "KULq5NdmdvKf"
      },
      "execution_count": 13,
      "outputs": []
    },
    {
      "cell_type": "code",
      "source": [
        "start=[5.09, 0.98]\n",
        "tf.config.run_functions_eagerly(True)\n",
        "schedule_fn = tf.keras.optimizers.schedules.PolynomialDecay(0.0, 250, 4e-6, 200)\n",
        "optimizer = tf.keras.optimizers.legacy.Adam(schedule_fn)\n",
        "q_z, losses = SVI(x,y,optimizer=optimizer,start=start, n_vi=1, num_steps=500, seed=2)"
      ],
      "metadata": {
        "id": "eLH2xMYNdvIR"
      },
      "execution_count": 14,
      "outputs": []
    },
    {
      "cell_type": "code",
      "source": [
        "print(q_z.mean())\n",
        "print(q_z.stddev())\n",
        "plt.plot(losses)"
      ],
      "metadata": {
        "colab": {
          "base_uri": "https://localhost:8080/",
          "height": 482
        },
        "id": "qNRpTEHYdvFs",
        "outputId": "d0d776e1-612a-4b23-b62f-756b8d9266aa"
      },
      "execution_count": 15,
      "outputs": [
        {
          "output_type": "stream",
          "name": "stdout",
          "text": [
            "tf.Tensor([5.0880985 0.9819896], shape=(2,), dtype=float32)\n",
            "tf.Tensor([0.0010019  0.00100686], shape=(2,), dtype=float32)\n"
          ]
        },
        {
          "output_type": "execute_result",
          "data": {
            "text/plain": [
              "[<matplotlib.lines.Line2D at 0x7a0c446862c0>]"
            ]
          },
          "metadata": {},
          "execution_count": 15
        },
        {
          "output_type": "display_data",
          "data": {
            "text/plain": [
              "<Figure size 640x480 with 1 Axes>"
            ],
            "image/png": "[encoded data removed]"
          },
          "metadata": {}
        }
      ]
    },
    {
      "cell_type": "code",
      "source": [
        "import numpy as np\n",
        "import tensorflow as tf\n",
        "import tensorflow_probability as tfp\n",
        "from tensorflow_probability import (\n",
        "    distributions as tfd,\n",
        "    bijectors as tfb,\n",
        "    experimental as tfe,\n",
        ")\n",
        "from tqdm.auto import trange, tqdm\n",
        "\n",
        "def HMC(\n",
        "            x,\n",
        "            target_y,\n",
        "            q_z,\n",
        "            init_eps=0.3,\n",
        "            init_l=3,\n",
        "            n_hmc=50,\n",
        "            num_burnin_steps=250,\n",
        "            num_results=750,\n",
        "            max_leapfrog_steps=30,\n",
        "            seed=3,\n",
        "    ):\n",
        "        def tqdm_progress_bar_fn(num_steps):\n",
        "            return iter(tqdm(range(num_steps), desc=\"\", leave=True))\n",
        "\n",
        "        tf.random.set_seed(seed)\n",
        "        mc_start = q_z.sample(n_hmc)\n",
        "        cov_estimate = q_z.covariance()\n",
        "\n",
        "        momentum_distribution = (\n",
        "            tfe.distributions.MultivariateNormalPrecisionFactorLinearOperator(\n",
        "                precision_factor=tf.linalg.LinearOperatorLowerTriangular(\n",
        "                    tf.linalg.cholesky(cov_estimate),\n",
        "                ),\n",
        "                precision=tf.linalg.LinearOperatorFullMatrix(cov_estimate),\n",
        "            )\n",
        "        )\n",
        "\n",
        "        @tf.function\n",
        "        def run_chain():\n",
        "            num_adaptation_steps = int(num_burnin_steps * 0.8)\n",
        "            start = tf.identity(mc_start)\n",
        "            callable=lambda params: logposterior(params[:,0],params[:,1],x,target_y)\n",
        "\n",
        "            mc_kernel = tfe.mcmc.PreconditionedHamiltonianMonteCarlo(\n",
        "                target_log_prob_fn=callable,\n",
        "                momentum_distribution=momentum_distribution,\n",
        "                step_size=init_eps,\n",
        "                num_leapfrog_steps=init_l,\n",
        "            )\n",
        "\n",
        "            mc_kernel = tfe.mcmc.GradientBasedTrajectoryLengthAdaptation(\n",
        "                mc_kernel,\n",
        "                num_adaptation_steps=num_adaptation_steps,\n",
        "                max_leapfrog_steps=max_leapfrog_steps,\n",
        "            )\n",
        "            mc_kernel = tfp.mcmc.DualAveragingStepSizeAdaptation(\n",
        "                inner_kernel=mc_kernel, num_adaptation_steps=num_adaptation_steps\n",
        "            )\n",
        "\n",
        "            pbar = tfe.mcmc.ProgressBarReducer(\n",
        "                num_results + num_burnin_steps - 1, progress_bar_fn=tqdm_progress_bar_fn\n",
        "            )\n",
        "            mc_kernel = tfe.mcmc.WithReductions(mc_kernel, pbar)\n",
        "\n",
        "            return tfp.mcmc.sample_chain(\n",
        "                num_results=num_results,\n",
        "                num_burnin_steps=num_burnin_steps,\n",
        "                current_state=start,\n",
        "                kernel=mc_kernel,\n",
        "                seed=seed,\n",
        "            )\n",
        "\n",
        "        return run_chain()"
      ],
      "metadata": {
        "id": "9n6iz6HydvAb"
      },
      "execution_count": 16,
      "outputs": []
    },
    {
      "cell_type": "code",
      "source": [
        "#Sampling from SVI\n",
        "samples, sample_stats = HMC(x,y,q_z=q_z, n_hmc=8, init_eps=0.3, init_l=3, max_leapfrog_steps=300,\n",
        "                                   num_burnin_steps=200, num_results=750)"
      ],
      "metadata": {
        "colab": {
          "base_uri": "https://localhost:8080/",
          "height": 104,
          "referenced_widgets": [
            "97579f8532dc421da4614b0e2a207deb",
            "6712dea301bc44409f76d50ec0eb62a9",
            "ffed804e11e941daa8d0c98244d3505f",
            "d0a62ea3960948a0bf63297abdf8a1d1",
            "e2f259109c914e6d8ca857eb54f4de11",
            "c10ecfec42714f0c981a3fe588d7eb54",
            "4c993ced5f91405089c76f76b18d97b5",
            "c360a9143e674befb722ce968a3d53cd",
            "0d71f11d3d514b05954644a30eeba436",
            "93df16ee9824429e9d74db6e339236af",
            "27b64d50358343c4a86750b52be8fdb6"
          ]
        },
        "id": "7cuVa_3xegEE",
        "outputId": "4eb1f7fd-ad65-44e5-bd28-d910b56b50ee"
      },
      "execution_count": null,
      "outputs": [
        {
          "output_type": "display_data",
          "data": {
            "text/plain": [
              "  0%|          | 0/949 [00:00<?, ?it/s]"
            ],
            "application/vnd.jupyter.widget-view+json": {
              "version_major": 2,
              "version_minor": 0,
              "model_id": "97579f8532dc421da4614b0e2a207deb"
            }
          },
          "metadata": {}
        },
        {
          "output_type": "stream",
          "name": "stderr",
          "text": [
            "/usr/local/lib/python3.10/dist-packages/tensorflow_probability/python/mcmc/sample.py:339: UserWarning: Tracing all kernel results by default is deprecated. Set the `trace_fn` argument to None (the future default value) or an explicit callback that traces the values you are interested in.\n",
            "  warnings.warn('Tracing all kernel results by default is deprecated. Set '\n"
          ]
        }
      ]
    },
    {
      "cell_type": "code",
      "source": [
        "!pip install corner\n",
        "from corner import corner"
      ],
      "metadata": {
        "id": "rltYJ4tHef5X"
      },
      "execution_count": null,
      "outputs": []
    },
    {
      "cell_type": "code",
      "source": [
        "samples_n=samples.numpy()\n",
        "print(np.shape(samples_n))\n",
        "n=750*8\n",
        "s_R=samples_n.reshape((n,2))\n",
        "print(s_R)\n",
        "figure=corner(s_R, show_titles=True,labels=['Slope', 'Intercept'])\n",
        "plt.figtext(0.95, 0.95, 'True slope=5, True interceipt=1', color='black', weight='bold', size='large')\n",
        "plt.show()"
      ],
      "metadata": {
        "id": "ctgSHQZJelqH"
      },
      "execution_count": null,
      "outputs": []
    },
    {
      "cell_type": "code",
      "source": [
        "colors = ['#1f0a1d','limegreen','seagreen','navy','darkkhaki']\n",
        "fig = plt.figure(figsize=(10, 3))\n",
        "gs = plt.GridSpec(1, 2, width_ratios=[1, .4], height_ratios=[1])\n",
        "ax1 = plt.subplot(gs[0, 0],)\n",
        "\n",
        "for i in range(4):\n",
        " ax1.plot(samples_n[:,i,0], colors[i], label = f'{i}', alpha = 0.6)\n",
        " plt.title('Slope trace sampling from SVI')\n",
        "#  plt.legend(title = 'Chains', loc = 'center left', bbox_to_anchor=(1.1, 0.5))\n",
        "\n",
        "ax1.grid(True)\n",
        "\n",
        "ax2 = plt.subplot(gs[0, 1], sharey=ax1)\n",
        "for i in range(4):\n",
        "  prob, bins = np.histogram(samples_n[:,i,0], density = True, bins = 40)\n",
        "  (mu, sigma) = norm.fit(samples_n[:,i,0])\n",
        "\n",
        "  y = norm.pdf(bins, mu, sigma)\n",
        "  ax2.plot(y, bins, colors[i], linewidth=2, alpha = 0.8)\n",
        "\n",
        "ax2.grid(True)\n",
        "plt.gca().axes.get_xaxis().set_visible(False)\n",
        "plt.tick_params(axis='y', labelsize=0)\n",
        "plt.gca().axes.get_yaxis().set_visible(True)\n",
        "plt.tight_layout()\n",
        "plt.show()"
      ],
      "metadata": {
        "id": "jOypQueKelnx"
      },
      "execution_count": null,
      "outputs": []
    },
    {
      "cell_type": "code",
      "source": [
        "colors = ['#1f0a1d','limegreen','seagreen','navy','darkkhaki']\n",
        "fig = plt.figure(figsize=(10, 3))\n",
        "gs = plt.GridSpec(1, 2, width_ratios=[1, .4], height_ratios=[1])\n",
        "ax1 = plt.subplot(gs[0, 0],)\n",
        "\n",
        "for i in range(4):\n",
        " ax1.plot(samples_n[:,i,1], colors[i], label = f'{i}', alpha = 0.6)\n",
        " plt.title('Interceipt trace sampling from SVI')\n",
        "#  plt.legend(title = 'Chains', loc = 'center left', bbox_to_anchor=(1.1, 0.5))\n",
        "\n",
        "ax1.grid(True)\n",
        "\n",
        "ax2 = plt.subplot(gs[0, 1], sharey=ax1)\n",
        "for i in range(4):\n",
        "  prob, bins = np.histogram(samples_n[:,i,1], density = True, bins = 40)\n",
        "  (mu, sigma) = norm.fit(samples_n[:,i,1])\n",
        "\n",
        "  y = norm.pdf(bins, mu, sigma)\n",
        "  ax2.plot(y, bins, colors[i], linewidth=2, alpha = 0.8)\n",
        "\n",
        "ax2.grid(True)\n",
        "plt.gca().axes.get_xaxis().set_visible(False)\n",
        "plt.tick_params(axis='y', labelsize=0)\n",
        "plt.gca().axes.get_yaxis().set_visible(True)\n",
        "plt.tight_layout()\n",
        "plt.show()"
      ],
      "metadata": {
        "id": "mpTXg18Fellm"
      },
      "execution_count": null,
      "outputs": []
    },
    {
      "cell_type": "code",
      "source": [
        "#Sampling from best MAP\n",
        "start=[5.09, 0.98]\n",
        "init_scales=1e-6\n",
        "tf.random.set_seed(2)\n",
        "start = tf.squeeze(start)\n",
        "scale = (\n",
        "          np.ones(len(start)).astype(np.float32) * init_scales\n",
        "          if np.size(init_scales) == 1\n",
        "          else init_scales\n",
        "        )\n",
        "q_z1 = tfd.MultivariateNormalTriL( #this is the surrogate posterior, which we choose to be a multivariable gaussian\n",
        "      loc=tf.Variable(start), #initially, we set the mean to be the start tensor, which is the best MAP\n",
        "      scale_tril=tfp.util.TransformedVariable(\n",
        "       np.diag(scale),\n",
        "      tfp.bijectors.FillScaleTriL(diag_bijector=tfp.bijectors.Exp(), diag_shift=1e-6),\n",
        "      name=\"stddev\",\n",
        "            ),\n",
        "        )"
      ],
      "metadata": {
        "id": "rP8YkxQweljW"
      },
      "execution_count": null,
      "outputs": []
    },
    {
      "cell_type": "code",
      "source": [
        "x = tf.linspace(-2,2, NUM_DATA)\n",
        "x = tf.cast(x, tf.float32)\n",
        "y= f(x) + noise\n",
        "y = tf.cast(y, tf.float32)"
      ],
      "metadata": {
        "id": "AuNQauwiUyl6"
      },
      "execution_count": null,
      "outputs": []
    },
    {
      "cell_type": "code",
      "source": [
        "samples2, sample_stats = HMC(x,y,q_z=q_z1, n_hmc=8, init_eps=0.3, init_l=3, max_leapfrog_steps=300,\n",
        "                                   num_burnin_steps=250, num_results=750)"
      ],
      "metadata": {
        "id": "Vak8EpdIelhI"
      },
      "execution_count": null,
      "outputs": []
    },
    {
      "cell_type": "code",
      "source": [
        "Rhat = tfp.mcmc.potential_scale_reduction(samples).numpy()\n",
        "print(Rhat)"
      ],
      "metadata": {
        "id": "dh5sU7wqelel"
      },
      "execution_count": null,
      "outputs": []
    },
    {
      "cell_type": "code",
      "source": [
        "samples_2n=samples2.numpy()\n",
        "print(np.shape(samples_2n))\n",
        "shape_samples=8*750\n",
        "s_R2=samples_2n.reshape((shape_samples,2))\n",
        "figure=corner(s_R2, show_titles=True,labels=['Slope', 'Intercept'])\n",
        "plt.figtext(0.95, 0.95, 'True slope=5, True interceipt=1', color='black', weight='bold', size='large')\n",
        "plt.show()"
      ],
      "metadata": {
        "id": "6mXPLB61elcb"
      },
      "execution_count": null,
      "outputs": []
    },
    {
      "cell_type": "code",
      "source": [
        "colors = ['#1f0a1d','limegreen','seagreen','navy','darkkhaki']\n",
        "fig = plt.figure(figsize=(10, 3))\n",
        "gs = plt.GridSpec(1, 2, width_ratios=[1, .4], height_ratios=[1])\n",
        "ax1 = plt.subplot(gs[0, 0],)\n",
        "\n",
        "for i in range(4):\n",
        " ax1.plot(samples_2n[:,i,0], colors[i], label = f'{i}', alpha = 0.6)\n",
        " plt.title('Slope trace sampling from SVI')\n",
        "#  plt.legend(title = 'Chains', loc = 'center left', bbox_to_anchor=(1.1, 0.5))\n",
        "\n",
        "ax1.grid(True)\n",
        "\n",
        "ax2 = plt.subplot(gs[0, 1], sharey=ax1)\n",
        "for i in range(4):\n",
        "  prob, bins = np.histogram(samples_2n[:,i,0], density = True, bins = 40)\n",
        "  (mu, sigma) = norm.fit(samples_2n[:,i,0])\n",
        "\n",
        "  y = norm.pdf(bins, mu, sigma)\n",
        "  ax2.plot(y, bins, colors[i], linewidth=2, alpha = 0.8)\n",
        "\n",
        "ax2.grid(True)\n",
        "plt.gca().axes.get_xaxis().set_visible(False)\n",
        "plt.tick_params(axis='y', labelsize=0)\n",
        "plt.gca().axes.get_yaxis().set_visible(True)\n",
        "plt.tight_layout()\n",
        "plt.show()"
      ],
      "metadata": {
        "id": "jN1Dyov_elaN"
      },
      "execution_count": null,
      "outputs": []
    },
    {
      "cell_type": "code",
      "source": [
        "colors = ['#1f0a1d','limegreen','seagreen','navy','darkkhaki']\n",
        "fig = plt.figure(figsize=(10, 3))\n",
        "gs = plt.GridSpec(1, 2, width_ratios=[1, .4], height_ratios=[1])\n",
        "ax1 = plt.subplot(gs[0, 0],)\n",
        "\n",
        "for i in range(4):\n",
        " ax1.plot(samples_n[:,i,1], colors[i], label = f'{i}', alpha = 0.6)\n",
        " plt.title('Intercepit trace sampling from MAP result')\n",
        "#  plt.legend(title = 'Chains', loc = 'center left', bbox_to_anchor=(1.1, 0.5))\n",
        "\n",
        "ax1.grid(True)\n",
        "\n",
        "ax2 = plt.subplot(gs[0, 1], sharey=ax1)\n",
        "for i in range(4):\n",
        "  prob, bins = np.histogram(samples_n[:,i,1], density = True, bins = 40)\n",
        "  (mu, sigma) = norm.fit(samples_n[:,i,1])\n",
        "\n",
        "  y = norm.pdf(bins, mu, sigma)\n",
        "  ax2.plot(y, bins, colors[i], linewidth=2, alpha = 0.8)\n",
        "\n",
        "ax2.grid(True)\n",
        "plt.gca().axes.get_xaxis().set_visible(False)\n",
        "plt.tick_params(axis='y', labelsize=0)\n",
        "plt.gca().axes.get_yaxis().set_visible(True)\n",
        "plt.tight_layout()\n",
        "plt.show()"
      ],
      "metadata": {
        "id": "OA8MHrlVelXt"
      },
      "execution_count": null,
      "outputs": []
    },
    {
      "cell_type": "code",
      "source": [],
      "metadata": {
        "id": "Sq4bj3tHelVd"
      },
      "execution_count": null,
      "outputs": []
    },
    {
      "cell_type": "code",
      "source": [],
      "metadata": {
        "id": "1sNGxQXrelTH"
      },
      "execution_count": null,
      "outputs": []
    },
    {
      "cell_type": "code",
      "source": [],
      "metadata": {
        "id": "xDX0oL97elQ2"
      },
      "execution_count": null,
      "outputs": []
    },
    {
      "cell_type": "code",
      "source": [],
      "metadata": {
        "id": "seSyThrLef3A"
      },
      "execution_count": null,
      "outputs": []
    },
    {
      "cell_type": "code",
      "source": [],
      "metadata": {
        "id": "I6DrZ0LFef0I"
      },
      "execution_count": null,
      "outputs": []
    },
    {
      "cell_type": "code",
      "source": [],
      "metadata": {
        "id": "XRRLX-RRefxc"
      },
      "execution_count": null,
      "outputs": []
    }
  ]
}